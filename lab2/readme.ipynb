{
 "cells": [
  {
   "cell_type": "markdown",
   "metadata": {},
   "source": [
    "## Shor's Algorithm\n",
    "\n",
    "Shor's algorithm is used to find prime factors of an integer. On a quantum computer, Shor's algorithm runs in polynomial time and is almost exponentially faster than the most efficient known classical factoring algorithm. \n",
    "The efficiency of Shor's algorithm is due to the efficiency of the Quantum Fourier transform, Quantum Phase estimation and modular exponentiation by repeated squarings. \n",
    "\n",
    "In this notebook, you implement the Shor's algorithm in code using the Amazon Braket SDK.\n",
    "\n",
    "Where:\n",
    "- n is the integer to be factored\n",
    "- a is any integer that satisfies 1 < a < n and gcd(a, n) = 1.\n",
    "\n",
    "## Preparation\n",
    "We import the functions and modules required to perform the emulation.\n",
    "A simple function is added to randomize n.\n",
    "\n",
    "## General steps\n",
    "\n",
    "* Copy the code into `test.py`, in this case `test.py` is empty and there is no need to run the script from a particular directory.\n",
    "* Any references/imports are of modules that have been installed prior to the start of this lab\n",
    "* Run the program: `python test.py` from a terminal to see the results for every step"
   ]
  },
  {
   "cell_type": "code",
   "execution_count": 1,
   "metadata": {},
   "outputs": [],
   "source": [
    "import random\n",
    "from math import gcd\n",
    "from braket.devices import LocalSimulator\n",
    "from braket.aws import AwsDevice\n",
    "from braket.experimental.algorithms.shors.shors import (\n",
    "    shors_algorithm,\n",
    "    run_shors_algorithm,\n",
    "    get_factors_from_results\n",
    ")\n",
    "\n",
    "def _rand_n(bits: int):\n",
    "    # bits to decimal\n",
    "    min_ = pow(2, bits-1)\n",
    "    max_ = pow(2, bits) - 1\n",
    "    result = random.randint(min_, max_)\n",
    "    print(\"N is set to:\", result)\n",
    "    return result\n",
    "\n",
    "def main():\n",
    "    # Main function\n",
    "\n",
    "    #  #  # Place the other code here #  #  #\n",
    "\n",
    "    raise SystemExit()\n",
    "\n",
    "\n",
    "if __name__ == '__main__':\n",
    "    main()\n"
   ]
  },
  {
   "cell_type": "markdown",
   "metadata": {},
   "source": [
    "## Prepare inputs for Shor's Algorithm\n",
    "\n",
    "### Calculating a\n",
    "As we need to satisfy `1 < a < n and gcd(a, n) = 1` we add a small loop. Using quantum compute will not bring any significant benefit to this calculation and hence it is performed on the regular CPU.\n",
    "\n",
    "### Quantum computer's circuit\n",
    "To perform a computation of Shor's algorithm a *Quantum Circuit* is required. A *Quantum Circuit* is a model for quantum computation, similar to classical circuits, in which a computation is a sequence of quantum gates, measurements, initializations of qubits to known values, and possibly other actions.\n",
    "\n",
    "We create the circuit by calling the function `shors_algorithm` and share n and a with that function.\n"
   ]
  },
  {
   "cell_type": "code",
   "execution_count": 2,
   "metadata": {},
   "outputs": [],
   "source": [
    "def main():\n",
    "\n",
    "    # ...\n",
    "\n",
    "    nr_of_bits = 6\n",
    "\n",
    "    n = _rand_n(nr_of_bits)\n",
    "\n",
    "    a = 2\n",
    "    result = []\n",
    "    while 1 < a < n:\n",
    "        if gcd(a, n) == 1:\n",
    "          result.append(a)\n",
    "        a += 1\n",
    "    a = random.choice(result)\n",
    "\n",
    "    shors_circuit = shors_algorithm(n, a)"
   ]
  },
  {
   "cell_type": "markdown",
   "metadata": {},
   "source": [
    "## Run on a local simulator\n",
    "\n",
    "Now that we have a circuit we can run a local Quantum simulator or do we?"
   ]
  },
  {
   "cell_type": "code",
   "execution_count": null,
   "metadata": {},
   "outputs": [],
   "source": [
    "\n",
    "def main():\n",
    "\n",
    "    # ...\n",
    "\n",
    "    local_simulator = LocalSimulator()\n",
    "\n",
    "    output = run_shors_algorithm(shors_circuit, local_simulator)\n",
    "\n",
    "    guessed_factors = get_factors_from_results(output, n, a)\n",
    "\n",
    "    print(guessed_factors)"
   ]
  },
  {
   "cell_type": "markdown",
   "metadata": {},
   "source": [
    "## Building the circuit\n",
    "The SDK has a function `modular_exponentiation_amod15` that builds the actual circuit for performing the calculation.\n",
    "\n",
    "It clearly has its limitations as shown below."
   ]
  },
  {
   "cell_type": "code",
   "execution_count": null,
   "metadata": {},
   "outputs": [],
   "source": [
    "def modular_exponentiation_amod15(\n",
    "    counting_qubits: QubitSetInput, aux_qubits: QubitSetInput, integer_a: int\n",
    ") -> Circuit:\n",
    "    \"\"\"\n",
    "    Construct a circuit object corresponding the modular exponentiation of a^x Mod 15\n",
    "\n",
    "    Args:\n",
    "        counting_qubits (QubitSetInput): Qubits defining the counting register\n",
    "        aux_qubits (QubitSetInput) : Qubits defining the auxilary register\n",
    "        integer_a (int) : Any integer that satisfies 1 < a < N and gcd(a, N) = 1.\n",
    "    Returns:\n",
    "        Circuit: Circuit object that implements the modular exponentiation of a^x Mod 15\n",
    "    \"\"\"\n",
    "\n",
    "    # Instantiate circuit object\n",
    "    mod_exp_amod15 = Circuit()\n",
    "\n",
    "    for x in counting_qubits:\n",
    "        r = 2**x\n",
    "        if integer_a not in [2, 7, 8, 11, 13]:\n",
    "            raise ValueError(\"integer 'a' must be 2,7,8,11 or 13\")\n",
    "        for iteration in range(r):\n",
    "            if integer_a in [2, 13]:\n",
    "                mod_exp_amod15.cswap(x, aux_qubits[0], aux_qubits[1])\n",
    "                mod_exp_amod15.cswap(x, aux_qubits[1], aux_qubits[2])\n",
    "                mod_exp_amod15.cswap(x, aux_qubits[2], aux_qubits[3])\n",
    "            if integer_a in [7, 8]:\n",
    "                mod_exp_amod15.cswap(x, aux_qubits[2], aux_qubits[3])\n",
    "                mod_exp_amod15.cswap(x, aux_qubits[1], aux_qubits[2])\n",
    "                mod_exp_amod15.cswap(x, aux_qubits[0], aux_qubits[1])\n",
    "            if integer_a == 11:\n",
    "                mod_exp_amod15.cswap(x, aux_qubits[1], aux_qubits[3])\n",
    "                mod_exp_amod15.cswap(x, aux_qubits[0], aux_qubits[2])\n",
    "            if integer_a in [7, 11, 13]:\n",
    "                for q in aux_qubits:\n",
    "                    mod_exp_amod15.cnot(x, q)\n",
    "\n",
    "    return mod_exp_amod15"
   ]
  },
  {
   "cell_type": "markdown",
   "metadata": {},
   "source": [
    "## Limits of the Circuit\n",
    "\n",
    "It seems that it is not just the number of qubits or gates but also that the correct circuit is required to perform the calculation.\n",
    "Creating such a circuit, whether it be for a simulator or for an actual Quantum computer is highly complex and in this case not automated."
   ]
  }
 ],
 "metadata": {
  "kernelspec": {
   "display_name": "Python 3 (ipykernel)",
   "language": "python",
   "name": "python3"
  },
  "language_info": {
   "codemirror_mode": {
    "name": "ipython",
    "version": 3
   },
   "file_extension": ".py",
   "mimetype": "text/x-python",
   "name": "python",
   "nbconvert_exporter": "python",
   "pygments_lexer": "ipython3",
   "version": "3.10.8"
  },
  "vscode": {
   "interpreter": {
    "hash": "5904cb9a2089448a2e1aeb5d493d227c9de33e591d7c07e4016fb81e71061a5d"
   }
  }
 },
 "nbformat": 4,
 "nbformat_minor": 2
}
