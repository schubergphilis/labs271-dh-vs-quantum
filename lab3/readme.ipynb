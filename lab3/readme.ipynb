{
 "cells": [
  {
   "cell_type": "markdown",
   "metadata": {},
   "source": [
    "## Introduction\n",
    "\n",
    "In this tutorial you will see how to implement the quantum equivalent of a Full Adder on IBMs quantum computers using quantum logic gates.\n",
    "\n",
    "### What is a Full Adder?\n",
    "\n",
    "A Full Adder is a logic circuit used by classical computers to implement addition on up to 3 bits.\n",
    "\n",
    "![Full Adder Circuit](./full-adder-circuit.png)\n",
    "\n",
    "The Full Adder circuit contains 3 inputs: A, B, and Cin (short for Carry in.as it carries in from the previous Full Adder since they can be stringed together)\n",
    "\n",
    "There are also 2 outputs called Sum and Cout (Short for carry out as it carries out a bit to the Cin of the next adder)\n",
    "\n",
    "### Regular CPU\n",
    "One may tend to forget that these kind of circuits are built into the silicon of CPUs. An can be called as a function rather instructing the CPU to build the circuit on the fly for us.\n",
    "This is the major difference between a CPU and QPU: one needs to define the circuit first before one can compute.\n",
    "The example below is a reference to the ZipCPU. x486, ARM and RISC are CPU architectures each with a different instruction set aka built-in circuits.\n",
    "These are assembly instruction.\n",
    "\n",
    "![ZipCPU](./zipcpu.png)\n",
    "\n",
    "## Truth Table\n",
    "\n",
    "![Truth Table](./truth-table.png)\n",
    "\n",
    "## Implementation\n",
    "\n",
    "![Quantum Circuit](./circuit.png)\n",
    "\n",
    "To implement a Full Adder on a quantum computer we will need 4 qubits (ie 1 for each input and output of the Full Adder).\n",
    "\n",
    "Q0: Qubit for input A\n",
    "Q1: Qubit for Input B\n",
    "Q2: Qubit for Input Cin\n",
    "Q3: Qubit for Sum\n",
    "Q4: Qubit for Cout\n",
    "\n",
    "## How it works\n",
    "\n",
    "For calculating the Sum we simply apply a CNOT gate to Q3 (Sum) from all inputs. This means that if any one of the inputs are 1 then Q3 will be flipped to 1. If all inputs are 0 then Q3 will remain 0.\n",
    "\n",
    "To calculate Cout (Q4) we apply Toffoli gates with Q4 as the target and the input combinations (Q0,Q1), (Q0,Q2), (Q1,Q2) as the control qubits.\n",
    "\n",
    "Note: Because of the order of the gates we can never get the Sum and Cout to both equal 1 if only 2 of the inputs are 1.\n",
    "\n",
    "## The code\n",
    "Have a look at the code `sum3bits.py` \n",
    "\n",
    "**NOTE**: To run this turtorial you need a IBM Quantum account (https://quantum-computing.ibm.com/) as it requires more than 3 qubits."
   ]
  },
  {
   "cell_type": "markdown",
   "metadata": {},
   "source": [
    "---\n",
    "Main author: Macauley Coggins"
   ]
  }
 ],
 "metadata": {
  "language_info": {
   "name": "python"
  }
 },
 "nbformat": 4,
 "nbformat_minor": 2
}
