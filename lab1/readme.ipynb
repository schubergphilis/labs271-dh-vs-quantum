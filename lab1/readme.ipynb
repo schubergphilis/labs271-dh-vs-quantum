{
 "cells": [
  {
   "cell_type": "markdown",
   "metadata": {},
   "source": [
    "## Introduction\n",
    "\n",
    "In this lab exercise, we are going to create a program that will break Diffie Hellman (DH) keys. The reason why we use Diffie Hellman and not RSA is that standard RSA requires a key-length of 1024 bits, which currently will require a lot of compute and time to break and not feasible for this lab.\n",
    "The Diffie Hellman algorithm does not have this minimal requirement and \"works\" with smaller key-lengths. Smaller key-lengths \"work\" but that does not mean they are secure.\n",
    "\n",
    "**Note**: Please add/edit your code in test.py and run it via a Terminal\n",
    "\n",
    "### Alice & Bob\n",
    "Alice and Bob would like to exchange a sensitive message message.\n",
    "By generating a shared key using Diffie Hellman (DH) they are able to encrypt the sensitive message with their shared secret and prevent others from eaves dropping.\n",
    "\n",
    "## General steps\n",
    "\n",
    "Please follow these generic steps for each of the following sections.\n",
    "* Copy the code into `test.py`\n",
    "* This file has a reference to a library file `labfuncs.py` where the actual functions used are located\n",
    "* Set a `bit_size` larger than 3\n",
    "* Run the program: `python test.py` from a terminal in the lab1 directory\n",
    "\n",
    "\n",
    "### Generate initial keys\n",
    "There are specific requirements for DH thus we will write a program that will ensure this.\n",
    "\n",
    "Alice will start the process:\n",
    "* Alice generates `pub_prime_key`, a public prime number and `pub_base_key` a primitive root modulo of `pub_prime_key`.\n",
    "\n",
    "\n",
    "***NOTE***: Do not copy `def main():` line this is just there to prevent processing of the Jupyter Notebook"
   ]
  },
  {
   "cell_type": "code",
   "execution_count": 3,
   "metadata": {},
   "outputs": [],
   "source": [
    "def main():\n",
    "\n",
    "    bit_size = 4\n",
    "\n",
    "    print(\"Given the bit_size of\", bit_size)\n",
    "    print(\"    the Private keys of Alice & Bob will be\")\n",
    "    print(\"         larger than:\", pow(2, bit_size - 1),\"and\")\n",
    "    print(\"        smaller than:\", pow(2, bit_size) - 1)\n",
    "\n",
    "    pub_base_key = 0\n",
    "    pub_prime_key = None\n",
    "    primitive_roots = None\n",
    "    while pub_base_key < 2:\n",
    "        pub_prime_key = randPrime(bit_size)\n",
    "        primitive_roots, pub_base_key = find_primitive_root(pub_prime_key)\n",
    "    print(\"    the Public Prime key (p)\")\n",
    "    print(\"        is set to:\", pub_prime_key)\n",
    "    print(\"    the derived Public Base key (g) is\")\n",
    "    print(\"        selected from:\", primitive_roots)\n",
    "    print(\"        and set to:\", pub_base_key)\n"
   ]
  },
  {
   "cell_type": "markdown",
   "metadata": {},
   "source": [
    "# Exchanging keys and generating private keys\n",
    "\n",
    "* Alice shares `pub_prime_key`, a prime number and `pub_base_key` in the clear with Bob\n",
    "* Alice and Bob both generate a personal secret key (`priv_a, priv_b`), based on the same `bit_size`. We make sure that `priv_a`, the secret key of Alice is not the same as `priv_b`, the secret key of Bob.\n",
    "* Alice and Bob both calculate their public key (`pub_a, pub_b`)\n",
    "\n",
    "***NOTE***: Do not copy `def main():` line this is just there to prevent processing of the Jupyter Notebook\n"
   ]
  },
  {
   "cell_type": "code",
   "execution_count": 4,
   "metadata": {},
   "outputs": [],
   "source": [
    "def main():\n",
    "\n",
    "    # ...\n",
    "\n",
    "    priv_a = rand_n(bitSize)\n",
    "    priv_b = priv_a\n",
    "    while priv_a == priv_b:\n",
    "        priv_b = rand_n(bitSize)\n",
    "\n",
    "    print(\"The Private key of\")\n",
    "    print(\"    Alice is:\", priv_a)\n",
    "    print(\"      Bob is:\", priv_b)\n",
    "\n",
    "    pub_a = calc_key(priv_a, pub_base_key, pub_prime_key)\n",
    "    pub_b = calc_key(priv_b, pub_base_key, pub_prime_key)\n",
    "\n",
    "    print(\"The Public key of\")\n",
    "    print(\"    Alice is:\", pub_a)\n",
    "    print(\"      Bob is:\", pub_b)\n"
   ]
  },
  {
   "cell_type": "markdown",
   "metadata": {},
   "source": [
    "## Calculating the shared Secret\n",
    "In DH, the public and privates are *only* used to calculate the `shared_secret`.\n",
    "This `shared_secret` is not communicated between Alice and Bob, but only used to encrypt messages using another algorithm like AES.\n",
    "In RSA the public and private key can be used to exchange other messages, like a `shared_secret` and thus is communicated over the path between Alice and Bob."
   ]
  },
  {
   "cell_type": "code",
   "execution_count": 5,
   "metadata": {},
   "outputs": [],
   "source": [
    "def main():\n",
    "\n",
    "    # ...\n",
    "\n",
    "    shared_secret_a = calc_key(priv_a, pub_base_key, pub_prime_key)\n",
    "    shared_secret_b = calc_key(priv_b, pub_base_key, pub_prime_key)\n",
    "\n",
    "    if shared_secret_a != shared_secret_b:\n",
    "        print(\"ERROR: Alice's & Bob's sharedSecret are not the same\")\n",
    "        raise SystemExit()\n",
    "\n",
    "    print(\"The Shared secret of\")\n",
    "    print(\"    Alice is:\", shared_secret_a)\n",
    "    print(\"      Bob is:\", shared_secret_b)\n"
   ]
  },
  {
   "cell_type": "markdown",
   "metadata": {},
   "source": [
    "## Introducing Mallory\n",
    "Mallory has been able to listen in on the conversation between Alice and Bob.\n",
    "She has been able to collect the following public information exchanged:\n",
    "* Alice messages containing\n",
    "  * `pub_prime_key`\n",
    "  * `pub_base_key`\n",
    "  * Alice's public key `pub_a`\n",
    "* Bob message containing\n",
    "  * Bob's public key `pub_b`\n",
    "\n",
    "Malory will now try to calculate the private keys of Alice and Bob and their shared secret."
   ]
  },
  {
   "cell_type": "code",
   "execution_count": 6,
   "metadata": {},
   "outputs": [],
   "source": [
    "def main():\n",
    "\n",
    "    # ...\n",
    "    print(\"Malory determines\")\n",
    "    mal_priv_key_a, mal_priv_key_b = find_secret_key(pub_a, pub_b, pub_prime_key, pub_base_key)\n",
    "\n",
    "    print(\"    Alice's private key to be:\", mal_priv_key_a)\n",
    "    print(\"    Bob's private key to be:\", mal_priv_key_b)\n",
    "\n",
    "    mal_shared_secret_a = calc_key(mal_priv_key_a, pub_b, pub_prime_key)\n",
    "    mal_shared_secret_b = calc_key(mal_priv_key_b, pub_a, pub_prime_key)\n",
    "\n",
    "    print(\"    Alice's shared secret to be:\", mal_shared_secret_a)\n",
    "    print(\"    Bob's shared secret to be:\", mal_shared_secret_b)\n"
   ]
  },
  {
   "cell_type": "markdown",
   "metadata": {},
   "source": [
    "## Malory's challenge\n",
    "The function `find_secret_key` that Malory uses to find the private keys of Alice and Bob is quite time consuming.\n",
    "\n",
    "    a = pub_a\n",
    "    b = pub_b\n",
    "    p = pub_prime_key\n",
    "    g = pub_base_key\n",
    "\n",
    "***QUESTION*** Which variable or number could you change to speed up the search of this function?\n",
    "\n",
    "    def find_secret_key(a, b, p, g):\n",
    "        a_, b_ = None, None\n",
    "        for x in range(1, p):\n",
    "            if (g ** x) % p == a:\n",
    "                a_ = x\n",
    "            if (g ** x) % p == b:\n",
    "                b_ = x\n",
    "        return a_, b_\n",
    "\n",
    "You are probably using small integers to perform these tasks and the process will become slower with `bit_size` increasing.\n",
    "We need Quantum computation to speed up the process of this discrete logarithm problem.\n",
    "\n",
    "Let's go to Lab2"
   ]
  }
 ],
 "metadata": {
  "kernelspec": {
   "display_name": "Python 3",
   "language": "python",
   "name": "python3"
  },
  "language_info": {
   "codemirror_mode": {
    "name": "ipython",
    "version": 3
   },
   "file_extension": ".py",
   "mimetype": "text/x-python",
   "name": "python",
   "nbconvert_exporter": "python",
   "pygments_lexer": "ipython3",
   "version": "3.12.0"
  }
 },
 "nbformat": 4,
 "nbformat_minor": 2
}
